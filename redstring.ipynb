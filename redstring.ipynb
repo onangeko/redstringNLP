{
 "cells": [
  {
   "cell_type": "code",
   "execution_count": 69,
   "metadata": {
    "collapsed": true
   },
   "outputs": [
    {
     "name": "stderr",
     "output_type": "stream",
     "text": [
      "[nltk_data] Downloading package stopwords to\n",
      "[nltk_data]     C:\\Users\\lemur\\AppData\\Roaming\\nltk_data...\n",
      "[nltk_data]   Package stopwords is already up-to-date!\n",
      "[nltk_data] Downloading package punkt to\n",
      "[nltk_data]     C:\\Users\\lemur\\AppData\\Roaming\\nltk_data...\n",
      "[nltk_data]   Package punkt is already up-to-date!\n"
     ]
    }
   ],
   "source": [
    "import string\n",
    "import re\n",
    "import nltk\n",
    "nltk.download('stopwords')\n",
    "nltk.download('punkt')\n",
    "import numpy as np\n",
    "import tensorflow as tf\n",
    "import pandas as pd\n",
    "import seaborn as sns\n",
    "import matplotlib.pyplot as plt\n",
    "from sklearn import preprocessing"
   ]
  },
  {
   "cell_type": "code",
   "execution_count": 70,
   "outputs": [],
   "source": [
    "def distribution_plot(df,column):\n",
    "    plt.title('Distribution of ' )\n",
    "    sns.distplot(df[column])\n",
    "    plt.show()\n",
    "    return"
   ],
   "metadata": {
    "collapsed": false
   }
  },
  {
   "cell_type": "markdown",
   "source": [
    "## DATASET EXPLORATION"
   ],
   "metadata": {
    "collapsed": false
   }
  },
  {
   "cell_type": "code",
   "execution_count": 71,
   "outputs": [
    {
     "name": "stdout",
     "output_type": "stream",
     "text": [
      "<class 'pandas.core.frame.DataFrame'>\n",
      "RangeIndex: 987122 entries, 0 to 987121\n",
      "Data columns (total 6 columns):\n",
      " #   Column        Non-Null Count   Dtype  \n",
      "---  ------        --------------   -----  \n",
      " 0   Id            987122 non-null  int64  \n",
      " 1   OwnerUserId   981755 non-null  float64\n",
      " 2   CreationDate  987122 non-null  object \n",
      " 3   ParentId      987122 non-null  int64  \n",
      " 4   Score         987122 non-null  int64  \n",
      " 5   Body          987122 non-null  object \n",
      "dtypes: float64(1), int64(3), object(2)\n",
      "memory usage: 45.2+ MB\n"
     ]
    }
   ],
   "source": [
    "pd.set_option('float_format', '{:f}'.format)\n",
    "\n",
    "answers_df = pd.read_csv(\"data/Answers.csv\", encoding='latin-1')\n",
    "answers_df.info()"
   ],
   "metadata": {
    "collapsed": false
   }
  },
  {
   "cell_type": "code",
   "execution_count": 72,
   "outputs": [
    {
     "data": {
      "text/plain": "Id                 0\nOwnerUserId     5367\nCreationDate       0\nParentId           0\nScore              0\nBody               0\ndtype: int64"
     },
     "execution_count": 72,
     "metadata": {},
     "output_type": "execute_result"
    }
   ],
   "source": [
    "answers_df.isna().sum()"
   ],
   "metadata": {
    "collapsed": false
   }
  },
  {
   "cell_type": "code",
   "execution_count": 73,
   "outputs": [
    {
     "data": {
      "text/plain": "    Id  OwnerUserId          CreationDate  ParentId  Score  \\\n0  497    50.000000  2008-08-02T16:56:53Z       469      4   \n1  518   153.000000  2008-08-02T17:42:28Z       469      2   \n2  536   161.000000  2008-08-02T18:49:07Z       502      9   \n3  538   156.000000  2008-08-02T18:56:56Z       535     23   \n4  541   157.000000  2008-08-02T19:06:40Z       535     20   \n\n                                                Body  \n0  <p>open up a terminal (Applications-&gt;Utilit...  \n1  <p>I haven't been able to find anything that d...  \n2  <p>You can use ImageMagick's convert utility f...  \n3  <p>One possibility is Hudson.  It's written in...  \n4  <p>We run <a href=\"http://buildbot.net/trac\">B...  ",
      "text/html": "<div>\n<style scoped>\n    .dataframe tbody tr th:only-of-type {\n        vertical-align: middle;\n    }\n\n    .dataframe tbody tr th {\n        vertical-align: top;\n    }\n\n    .dataframe thead th {\n        text-align: right;\n    }\n</style>\n<table border=\"1\" class=\"dataframe\">\n  <thead>\n    <tr style=\"text-align: right;\">\n      <th></th>\n      <th>Id</th>\n      <th>OwnerUserId</th>\n      <th>CreationDate</th>\n      <th>ParentId</th>\n      <th>Score</th>\n      <th>Body</th>\n    </tr>\n  </thead>\n  <tbody>\n    <tr>\n      <th>0</th>\n      <td>497</td>\n      <td>50.000000</td>\n      <td>2008-08-02T16:56:53Z</td>\n      <td>469</td>\n      <td>4</td>\n      <td>&lt;p&gt;open up a terminal (Applications-&amp;gt;Utilit...</td>\n    </tr>\n    <tr>\n      <th>1</th>\n      <td>518</td>\n      <td>153.000000</td>\n      <td>2008-08-02T17:42:28Z</td>\n      <td>469</td>\n      <td>2</td>\n      <td>&lt;p&gt;I haven't been able to find anything that d...</td>\n    </tr>\n    <tr>\n      <th>2</th>\n      <td>536</td>\n      <td>161.000000</td>\n      <td>2008-08-02T18:49:07Z</td>\n      <td>502</td>\n      <td>9</td>\n      <td>&lt;p&gt;You can use ImageMagick's convert utility f...</td>\n    </tr>\n    <tr>\n      <th>3</th>\n      <td>538</td>\n      <td>156.000000</td>\n      <td>2008-08-02T18:56:56Z</td>\n      <td>535</td>\n      <td>23</td>\n      <td>&lt;p&gt;One possibility is Hudson.  It's written in...</td>\n    </tr>\n    <tr>\n      <th>4</th>\n      <td>541</td>\n      <td>157.000000</td>\n      <td>2008-08-02T19:06:40Z</td>\n      <td>535</td>\n      <td>20</td>\n      <td>&lt;p&gt;We run &lt;a href=\"http://buildbot.net/trac\"&gt;B...</td>\n    </tr>\n  </tbody>\n</table>\n</div>"
     },
     "execution_count": 73,
     "metadata": {},
     "output_type": "execute_result"
    }
   ],
   "source": [
    "answers_df.head()"
   ],
   "metadata": {
    "collapsed": false
   }
  },
  {
   "cell_type": "code",
   "execution_count": 74,
   "outputs": [
    {
     "data": {
      "text/plain": "                   Id    OwnerUserId        ParentId         Score\ncount   987122.000000  981755.000000   987122.000000 987122.000000\nmean  21607440.957471 1589642.499920 20534960.850753      3.028437\nstd   11794878.874466 1649345.831621 11954864.488041     21.263246\nmin        497.000000       1.000000      469.000000    -38.000000\n25%   11447745.500000  260303.000000  9968532.000000      0.000000\n50%   22541876.500000  963465.000000 21035504.000000      1.000000\n75%   32054689.000000 2433809.500000 31152330.250000      3.000000\nmax   40143370.000000 7044747.000000 40143190.000000   8384.000000",
      "text/html": "<div>\n<style scoped>\n    .dataframe tbody tr th:only-of-type {\n        vertical-align: middle;\n    }\n\n    .dataframe tbody tr th {\n        vertical-align: top;\n    }\n\n    .dataframe thead th {\n        text-align: right;\n    }\n</style>\n<table border=\"1\" class=\"dataframe\">\n  <thead>\n    <tr style=\"text-align: right;\">\n      <th></th>\n      <th>Id</th>\n      <th>OwnerUserId</th>\n      <th>ParentId</th>\n      <th>Score</th>\n    </tr>\n  </thead>\n  <tbody>\n    <tr>\n      <th>count</th>\n      <td>987122.000000</td>\n      <td>981755.000000</td>\n      <td>987122.000000</td>\n      <td>987122.000000</td>\n    </tr>\n    <tr>\n      <th>mean</th>\n      <td>21607440.957471</td>\n      <td>1589642.499920</td>\n      <td>20534960.850753</td>\n      <td>3.028437</td>\n    </tr>\n    <tr>\n      <th>std</th>\n      <td>11794878.874466</td>\n      <td>1649345.831621</td>\n      <td>11954864.488041</td>\n      <td>21.263246</td>\n    </tr>\n    <tr>\n      <th>min</th>\n      <td>497.000000</td>\n      <td>1.000000</td>\n      <td>469.000000</td>\n      <td>-38.000000</td>\n    </tr>\n    <tr>\n      <th>25%</th>\n      <td>11447745.500000</td>\n      <td>260303.000000</td>\n      <td>9968532.000000</td>\n      <td>0.000000</td>\n    </tr>\n    <tr>\n      <th>50%</th>\n      <td>22541876.500000</td>\n      <td>963465.000000</td>\n      <td>21035504.000000</td>\n      <td>1.000000</td>\n    </tr>\n    <tr>\n      <th>75%</th>\n      <td>32054689.000000</td>\n      <td>2433809.500000</td>\n      <td>31152330.250000</td>\n      <td>3.000000</td>\n    </tr>\n    <tr>\n      <th>max</th>\n      <td>40143370.000000</td>\n      <td>7044747.000000</td>\n      <td>40143190.000000</td>\n      <td>8384.000000</td>\n    </tr>\n  </tbody>\n</table>\n</div>"
     },
     "execution_count": 74,
     "metadata": {},
     "output_type": "execute_result"
    }
   ],
   "source": [
    "answers_df.describe()"
   ],
   "metadata": {
    "collapsed": false
   }
  },
  {
   "cell_type": "code",
   "execution_count": 75,
   "outputs": [
    {
     "data": {
      "text/plain": "(987122, 6)"
     },
     "execution_count": 75,
     "metadata": {},
     "output_type": "execute_result"
    }
   ],
   "source": [
    "answers_df.shape"
   ],
   "metadata": {
    "collapsed": false
   }
  },
  {
   "cell_type": "code",
   "execution_count": 76,
   "outputs": [
    {
     "name": "stdout",
     "output_type": "stream",
     "text": [
      "<class 'pandas.core.frame.DataFrame'>\n",
      "RangeIndex: 987122 entries, 0 to 987121\n",
      "Data columns (total 6 columns):\n",
      " #   Column        Non-Null Count   Dtype  \n",
      "---  ------        --------------   -----  \n",
      " 0   Id            987122 non-null  int64  \n",
      " 1   OwnerUserId   981755 non-null  float64\n",
      " 2   CreationDate  987122 non-null  object \n",
      " 3   ParentId      987122 non-null  int64  \n",
      " 4   Score         987122 non-null  int64  \n",
      " 5   Body          987122 non-null  object \n",
      "dtypes: float64(1), int64(3), object(2)\n",
      "memory usage: 45.2+ MB\n"
     ]
    }
   ],
   "source": [
    "questions_df = pd.read_csv(\"data/Answers.csv\", encoding='latin-1')\n",
    "questions_df.info()"
   ],
   "metadata": {
    "collapsed": false
   }
  },
  {
   "cell_type": "code",
   "execution_count": 77,
   "outputs": [
    {
     "data": {
      "text/plain": "Id                 0\nOwnerUserId     5367\nCreationDate       0\nParentId           0\nScore              0\nBody               0\ndtype: int64"
     },
     "execution_count": 77,
     "metadata": {},
     "output_type": "execute_result"
    }
   ],
   "source": [
    "questions_df.isna().sum()"
   ],
   "metadata": {
    "collapsed": false
   }
  },
  {
   "cell_type": "code",
   "execution_count": 78,
   "outputs": [
    {
     "data": {
      "text/plain": "    Id  OwnerUserId          CreationDate  ParentId  Score  \\\n0  497    50.000000  2008-08-02T16:56:53Z       469      4   \n1  518   153.000000  2008-08-02T17:42:28Z       469      2   \n2  536   161.000000  2008-08-02T18:49:07Z       502      9   \n3  538   156.000000  2008-08-02T18:56:56Z       535     23   \n4  541   157.000000  2008-08-02T19:06:40Z       535     20   \n\n                                                Body  \n0  <p>open up a terminal (Applications-&gt;Utilit...  \n1  <p>I haven't been able to find anything that d...  \n2  <p>You can use ImageMagick's convert utility f...  \n3  <p>One possibility is Hudson.  It's written in...  \n4  <p>We run <a href=\"http://buildbot.net/trac\">B...  ",
      "text/html": "<div>\n<style scoped>\n    .dataframe tbody tr th:only-of-type {\n        vertical-align: middle;\n    }\n\n    .dataframe tbody tr th {\n        vertical-align: top;\n    }\n\n    .dataframe thead th {\n        text-align: right;\n    }\n</style>\n<table border=\"1\" class=\"dataframe\">\n  <thead>\n    <tr style=\"text-align: right;\">\n      <th></th>\n      <th>Id</th>\n      <th>OwnerUserId</th>\n      <th>CreationDate</th>\n      <th>ParentId</th>\n      <th>Score</th>\n      <th>Body</th>\n    </tr>\n  </thead>\n  <tbody>\n    <tr>\n      <th>0</th>\n      <td>497</td>\n      <td>50.000000</td>\n      <td>2008-08-02T16:56:53Z</td>\n      <td>469</td>\n      <td>4</td>\n      <td>&lt;p&gt;open up a terminal (Applications-&amp;gt;Utilit...</td>\n    </tr>\n    <tr>\n      <th>1</th>\n      <td>518</td>\n      <td>153.000000</td>\n      <td>2008-08-02T17:42:28Z</td>\n      <td>469</td>\n      <td>2</td>\n      <td>&lt;p&gt;I haven't been able to find anything that d...</td>\n    </tr>\n    <tr>\n      <th>2</th>\n      <td>536</td>\n      <td>161.000000</td>\n      <td>2008-08-02T18:49:07Z</td>\n      <td>502</td>\n      <td>9</td>\n      <td>&lt;p&gt;You can use ImageMagick's convert utility f...</td>\n    </tr>\n    <tr>\n      <th>3</th>\n      <td>538</td>\n      <td>156.000000</td>\n      <td>2008-08-02T18:56:56Z</td>\n      <td>535</td>\n      <td>23</td>\n      <td>&lt;p&gt;One possibility is Hudson.  It's written in...</td>\n    </tr>\n    <tr>\n      <th>4</th>\n      <td>541</td>\n      <td>157.000000</td>\n      <td>2008-08-02T19:06:40Z</td>\n      <td>535</td>\n      <td>20</td>\n      <td>&lt;p&gt;We run &lt;a href=\"http://buildbot.net/trac\"&gt;B...</td>\n    </tr>\n  </tbody>\n</table>\n</div>"
     },
     "execution_count": 78,
     "metadata": {},
     "output_type": "execute_result"
    }
   ],
   "source": [
    "questions_df.head()"
   ],
   "metadata": {
    "collapsed": false
   }
  },
  {
   "cell_type": "code",
   "execution_count": 79,
   "outputs": [
    {
     "data": {
      "text/plain": "                   Id    OwnerUserId        ParentId         Score\ncount   987122.000000  981755.000000   987122.000000 987122.000000\nmean  21607440.957471 1589642.499920 20534960.850753      3.028437\nstd   11794878.874466 1649345.831621 11954864.488041     21.263246\nmin        497.000000       1.000000      469.000000    -38.000000\n25%   11447745.500000  260303.000000  9968532.000000      0.000000\n50%   22541876.500000  963465.000000 21035504.000000      1.000000\n75%   32054689.000000 2433809.500000 31152330.250000      3.000000\nmax   40143370.000000 7044747.000000 40143190.000000   8384.000000",
      "text/html": "<div>\n<style scoped>\n    .dataframe tbody tr th:only-of-type {\n        vertical-align: middle;\n    }\n\n    .dataframe tbody tr th {\n        vertical-align: top;\n    }\n\n    .dataframe thead th {\n        text-align: right;\n    }\n</style>\n<table border=\"1\" class=\"dataframe\">\n  <thead>\n    <tr style=\"text-align: right;\">\n      <th></th>\n      <th>Id</th>\n      <th>OwnerUserId</th>\n      <th>ParentId</th>\n      <th>Score</th>\n    </tr>\n  </thead>\n  <tbody>\n    <tr>\n      <th>count</th>\n      <td>987122.000000</td>\n      <td>981755.000000</td>\n      <td>987122.000000</td>\n      <td>987122.000000</td>\n    </tr>\n    <tr>\n      <th>mean</th>\n      <td>21607440.957471</td>\n      <td>1589642.499920</td>\n      <td>20534960.850753</td>\n      <td>3.028437</td>\n    </tr>\n    <tr>\n      <th>std</th>\n      <td>11794878.874466</td>\n      <td>1649345.831621</td>\n      <td>11954864.488041</td>\n      <td>21.263246</td>\n    </tr>\n    <tr>\n      <th>min</th>\n      <td>497.000000</td>\n      <td>1.000000</td>\n      <td>469.000000</td>\n      <td>-38.000000</td>\n    </tr>\n    <tr>\n      <th>25%</th>\n      <td>11447745.500000</td>\n      <td>260303.000000</td>\n      <td>9968532.000000</td>\n      <td>0.000000</td>\n    </tr>\n    <tr>\n      <th>50%</th>\n      <td>22541876.500000</td>\n      <td>963465.000000</td>\n      <td>21035504.000000</td>\n      <td>1.000000</td>\n    </tr>\n    <tr>\n      <th>75%</th>\n      <td>32054689.000000</td>\n      <td>2433809.500000</td>\n      <td>31152330.250000</td>\n      <td>3.000000</td>\n    </tr>\n    <tr>\n      <th>max</th>\n      <td>40143370.000000</td>\n      <td>7044747.000000</td>\n      <td>40143190.000000</td>\n      <td>8384.000000</td>\n    </tr>\n  </tbody>\n</table>\n</div>"
     },
     "execution_count": 79,
     "metadata": {},
     "output_type": "execute_result"
    }
   ],
   "source": [
    "questions_df.describe()"
   ],
   "metadata": {
    "collapsed": false
   }
  },
  {
   "cell_type": "code",
   "execution_count": 80,
   "outputs": [
    {
     "data": {
      "text/plain": "(987122, 6)"
     },
     "execution_count": 80,
     "metadata": {},
     "output_type": "execute_result"
    }
   ],
   "source": [
    "questions_df.shape"
   ],
   "metadata": {
    "collapsed": false
   }
  },
  {
   "cell_type": "code",
   "execution_count": 81,
   "outputs": [
    {
     "name": "stdout",
     "output_type": "stream",
     "text": [
      "<class 'pandas.core.frame.DataFrame'>\n",
      "RangeIndex: 1885078 entries, 0 to 1885077\n",
      "Data columns (total 2 columns):\n",
      " #   Column  Dtype \n",
      "---  ------  ----- \n",
      " 0   Id      int64 \n",
      " 1   Tag     object\n",
      "dtypes: int64(1), object(1)\n",
      "memory usage: 28.8+ MB\n"
     ]
    }
   ],
   "source": [
    "tags_df = pd.read_csv(\"data/Tags.csv\", encoding='latin-1')\n",
    "tags_df.info()"
   ],
   "metadata": {
    "collapsed": false
   }
  },
  {
   "cell_type": "code",
   "execution_count": 82,
   "outputs": [
    {
     "data": {
      "text/plain": "Id       0\nTag    443\ndtype: int64"
     },
     "execution_count": 82,
     "metadata": {},
     "output_type": "execute_result"
    }
   ],
   "source": [
    "tags_df.isna().sum()"
   ],
   "metadata": {
    "collapsed": false
   }
  },
  {
   "cell_type": "code",
   "execution_count": 83,
   "outputs": [
    {
     "data": {
      "text/plain": "    Id        Tag\n0  469     python\n1  469        osx\n2  469      fonts\n3  469  photoshop\n4  502     python",
      "text/html": "<div>\n<style scoped>\n    .dataframe tbody tr th:only-of-type {\n        vertical-align: middle;\n    }\n\n    .dataframe tbody tr th {\n        vertical-align: top;\n    }\n\n    .dataframe thead th {\n        text-align: right;\n    }\n</style>\n<table border=\"1\" class=\"dataframe\">\n  <thead>\n    <tr style=\"text-align: right;\">\n      <th></th>\n      <th>Id</th>\n      <th>Tag</th>\n    </tr>\n  </thead>\n  <tbody>\n    <tr>\n      <th>0</th>\n      <td>469</td>\n      <td>python</td>\n    </tr>\n    <tr>\n      <th>1</th>\n      <td>469</td>\n      <td>osx</td>\n    </tr>\n    <tr>\n      <th>2</th>\n      <td>469</td>\n      <td>fonts</td>\n    </tr>\n    <tr>\n      <th>3</th>\n      <td>469</td>\n      <td>photoshop</td>\n    </tr>\n    <tr>\n      <th>4</th>\n      <td>502</td>\n      <td>python</td>\n    </tr>\n  </tbody>\n</table>\n</div>"
     },
     "execution_count": 83,
     "metadata": {},
     "output_type": "execute_result"
    }
   ],
   "source": [
    "tags_df.head()"
   ],
   "metadata": {
    "collapsed": false
   }
  },
  {
   "cell_type": "code",
   "execution_count": 84,
   "outputs": [
    {
     "data": {
      "text/plain": "                   Id\ncount  1885078.000000\nmean  23917947.228089\nstd   11214914.197417\nmin        469.000000\n25%   15187529.250000\n50%   25597469.500000\n75%   33728831.000000\nmax   40143365.000000",
      "text/html": "<div>\n<style scoped>\n    .dataframe tbody tr th:only-of-type {\n        vertical-align: middle;\n    }\n\n    .dataframe tbody tr th {\n        vertical-align: top;\n    }\n\n    .dataframe thead th {\n        text-align: right;\n    }\n</style>\n<table border=\"1\" class=\"dataframe\">\n  <thead>\n    <tr style=\"text-align: right;\">\n      <th></th>\n      <th>Id</th>\n    </tr>\n  </thead>\n  <tbody>\n    <tr>\n      <th>count</th>\n      <td>1885078.000000</td>\n    </tr>\n    <tr>\n      <th>mean</th>\n      <td>23917947.228089</td>\n    </tr>\n    <tr>\n      <th>std</th>\n      <td>11214914.197417</td>\n    </tr>\n    <tr>\n      <th>min</th>\n      <td>469.000000</td>\n    </tr>\n    <tr>\n      <th>25%</th>\n      <td>15187529.250000</td>\n    </tr>\n    <tr>\n      <th>50%</th>\n      <td>25597469.500000</td>\n    </tr>\n    <tr>\n      <th>75%</th>\n      <td>33728831.000000</td>\n    </tr>\n    <tr>\n      <th>max</th>\n      <td>40143365.000000</td>\n    </tr>\n  </tbody>\n</table>\n</div>"
     },
     "execution_count": 84,
     "metadata": {},
     "output_type": "execute_result"
    }
   ],
   "source": [
    "tags_df.describe()"
   ],
   "metadata": {
    "collapsed": false
   }
  },
  {
   "cell_type": "code",
   "execution_count": 85,
   "outputs": [
    {
     "data": {
      "text/plain": "(1885078, 2)"
     },
     "execution_count": 85,
     "metadata": {},
     "output_type": "execute_result"
    }
   ],
   "source": [
    "tags_df.shape"
   ],
   "metadata": {
    "collapsed": false
   }
  }
 ],
 "metadata": {
  "kernelspec": {
   "display_name": "Python 3",
   "language": "python",
   "name": "python3"
  },
  "language_info": {
   "codemirror_mode": {
    "name": "ipython",
    "version": 2
   },
   "file_extension": ".py",
   "mimetype": "text/x-python",
   "name": "python",
   "nbconvert_exporter": "python",
   "pygments_lexer": "ipython2",
   "version": "2.7.6"
  }
 },
 "nbformat": 4,
 "nbformat_minor": 0
}
