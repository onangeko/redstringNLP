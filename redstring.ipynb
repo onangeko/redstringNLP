{
 "cells": [
  {
   "cell_type": "code",
   "execution_count": 96,
   "metadata": {
    "collapsed": true
   },
   "outputs": [
    {
     "name": "stderr",
     "output_type": "stream",
     "text": [
      "[nltk_data] Downloading package stopwords to\n",
      "[nltk_data]     C:\\Users\\lemur\\AppData\\Roaming\\nltk_data...\n",
      "[nltk_data]   Package stopwords is already up-to-date!\n",
      "[nltk_data] Downloading package punkt to\n",
      "[nltk_data]     C:\\Users\\lemur\\AppData\\Roaming\\nltk_data...\n",
      "[nltk_data]   Package punkt is already up-to-date!\n"
     ]
    }
   ],
   "source": [
    "import string\n",
    "import re\n",
    "import nltk\n",
    "from nltk import word_tokenize, PorterStemmer, ToktokTokenizer, WordNetLemmatizer\n",
    "from nltk.corpus import stopwords\n",
    "nltk.download('stopwords')\n",
    "nltk.download('punkt')\n",
    "import numpy as np\n",
    "import tensorflow as tf\n",
    "import pandas as pd\n",
    "import seaborn as sns\n",
    "import matplotlib.pyplot as plt\n",
    "from sklearn import preprocessing\n",
    "from keras_preprocessing.sequence import pad_sequences\n",
    "from keras.preprocessing.text import Tokenizer\n",
    "from bs4 import BeautifulSoup"
   ]
  },
  {
   "cell_type": "markdown",
   "source": [
    "## FONCTIONS ANNEXES"
   ],
   "metadata": {
    "collapsed": false
   }
  },
  {
   "cell_type": "code",
   "execution_count": null,
   "outputs": [],
   "source": [
    "def preprocess(text):\n",
    "    # Removing HTML tags\n",
    "    text = BeautifulSoup(text, 'html.parser').get_text()\n",
    "\n",
    "    # Removing punctuation and non-alphanumeric characters\n",
    "    text = re.sub(r\"[^a-zA-Z0-9]\", \" \",  str(text))\n",
    "\n",
    "    # Tokenizing words\n",
    "    words = word_tokenize(str(text))\n",
    "\n",
    "    # Removing stopwords\n",
    "    stop_words = set(stopwords.words(\"english\"))\n",
    "    words = [w for w in words if w.lower() not in stop_words]\n",
    "\n",
    "    # Lemmatizing words\n",
    "    lemmatizer = WordNetLemmatizer()\n",
    "    words = [lemmatizer.lemmatize(w) for w in words]\n",
    "\n",
    "    return \" \".join(words)"
   ],
   "metadata": {
    "collapsed": false
   }
  },
  {
   "cell_type": "markdown",
   "source": [
    "## ANALYSE DES DONNEES"
   ],
   "metadata": {
    "collapsed": false
   }
  },
  {
   "cell_type": "code",
   "execution_count": 97,
   "outputs": [
    {
     "name": "stdout",
     "output_type": "stream",
     "text": [
      "<class 'pandas.core.frame.DataFrame'>\n",
      "RangeIndex: 987122 entries, 0 to 987121\n",
      "Data columns (total 6 columns):\n",
      " #   Column        Non-Null Count   Dtype  \n",
      "---  ------        --------------   -----  \n",
      " 0   Id            987122 non-null  int64  \n",
      " 1   OwnerUserId   981755 non-null  float64\n",
      " 2   CreationDate  987122 non-null  object \n",
      " 3   ParentId      987122 non-null  int64  \n",
      " 4   Score         987122 non-null  int64  \n",
      " 5   Body          987122 non-null  object \n",
      "dtypes: float64(1), int64(3), object(2)\n",
      "memory usage: 45.2+ MB\n"
     ]
    }
   ],
   "source": [
    "pd.set_option('float_format', '{:f}'.format)\n",
    "\n",
    "answers_df = pd.read_csv(\"data/Answers.csv\", encoding='latin-1')\n",
    "answers_df.info()"
   ],
   "metadata": {
    "collapsed": false
   }
  },
  {
   "cell_type": "code",
   "execution_count": 98,
   "outputs": [
    {
     "data": {
      "text/plain": "Id                 0\nOwnerUserId     5367\nCreationDate       0\nParentId           0\nScore              0\nBody               0\ndtype: int64"
     },
     "execution_count": 98,
     "metadata": {},
     "output_type": "execute_result"
    }
   ],
   "source": [
    "answers_df.isna().sum()"
   ],
   "metadata": {
    "collapsed": false
   }
  },
  {
   "cell_type": "code",
   "execution_count": 99,
   "outputs": [
    {
     "data": {
      "text/plain": "    Id  OwnerUserId          CreationDate  ParentId  Score  \\\n0  497    50.000000  2008-08-02T16:56:53Z       469      4   \n1  518   153.000000  2008-08-02T17:42:28Z       469      2   \n2  536   161.000000  2008-08-02T18:49:07Z       502      9   \n3  538   156.000000  2008-08-02T18:56:56Z       535     23   \n4  541   157.000000  2008-08-02T19:06:40Z       535     20   \n\n                                                Body  \n0  <p>open up a terminal (Applications-&gt;Utilit...  \n1  <p>I haven't been able to find anything that d...  \n2  <p>You can use ImageMagick's convert utility f...  \n3  <p>One possibility is Hudson.  It's written in...  \n4  <p>We run <a href=\"http://buildbot.net/trac\">B...  ",
      "text/html": "<div>\n<style scoped>\n    .dataframe tbody tr th:only-of-type {\n        vertical-align: middle;\n    }\n\n    .dataframe tbody tr th {\n        vertical-align: top;\n    }\n\n    .dataframe thead th {\n        text-align: right;\n    }\n</style>\n<table border=\"1\" class=\"dataframe\">\n  <thead>\n    <tr style=\"text-align: right;\">\n      <th></th>\n      <th>Id</th>\n      <th>OwnerUserId</th>\n      <th>CreationDate</th>\n      <th>ParentId</th>\n      <th>Score</th>\n      <th>Body</th>\n    </tr>\n  </thead>\n  <tbody>\n    <tr>\n      <th>0</th>\n      <td>497</td>\n      <td>50.000000</td>\n      <td>2008-08-02T16:56:53Z</td>\n      <td>469</td>\n      <td>4</td>\n      <td>&lt;p&gt;open up a terminal (Applications-&amp;gt;Utilit...</td>\n    </tr>\n    <tr>\n      <th>1</th>\n      <td>518</td>\n      <td>153.000000</td>\n      <td>2008-08-02T17:42:28Z</td>\n      <td>469</td>\n      <td>2</td>\n      <td>&lt;p&gt;I haven't been able to find anything that d...</td>\n    </tr>\n    <tr>\n      <th>2</th>\n      <td>536</td>\n      <td>161.000000</td>\n      <td>2008-08-02T18:49:07Z</td>\n      <td>502</td>\n      <td>9</td>\n      <td>&lt;p&gt;You can use ImageMagick's convert utility f...</td>\n    </tr>\n    <tr>\n      <th>3</th>\n      <td>538</td>\n      <td>156.000000</td>\n      <td>2008-08-02T18:56:56Z</td>\n      <td>535</td>\n      <td>23</td>\n      <td>&lt;p&gt;One possibility is Hudson.  It's written in...</td>\n    </tr>\n    <tr>\n      <th>4</th>\n      <td>541</td>\n      <td>157.000000</td>\n      <td>2008-08-02T19:06:40Z</td>\n      <td>535</td>\n      <td>20</td>\n      <td>&lt;p&gt;We run &lt;a href=\"http://buildbot.net/trac\"&gt;B...</td>\n    </tr>\n  </tbody>\n</table>\n</div>"
     },
     "execution_count": 99,
     "metadata": {},
     "output_type": "execute_result"
    }
   ],
   "source": [
    "answers_df.head()"
   ],
   "metadata": {
    "collapsed": false
   }
  },
  {
   "cell_type": "code",
   "execution_count": 100,
   "outputs": [
    {
     "data": {
      "text/plain": "                   Id    OwnerUserId        ParentId         Score\ncount   987122.000000  981755.000000   987122.000000 987122.000000\nmean  21607440.957471 1589642.499920 20534960.850753      3.028437\nstd   11794878.874466 1649345.831621 11954864.488041     21.263246\nmin        497.000000       1.000000      469.000000    -38.000000\n25%   11447745.500000  260303.000000  9968532.000000      0.000000\n50%   22541876.500000  963465.000000 21035504.000000      1.000000\n75%   32054689.000000 2433809.500000 31152330.250000      3.000000\nmax   40143370.000000 7044747.000000 40143190.000000   8384.000000",
      "text/html": "<div>\n<style scoped>\n    .dataframe tbody tr th:only-of-type {\n        vertical-align: middle;\n    }\n\n    .dataframe tbody tr th {\n        vertical-align: top;\n    }\n\n    .dataframe thead th {\n        text-align: right;\n    }\n</style>\n<table border=\"1\" class=\"dataframe\">\n  <thead>\n    <tr style=\"text-align: right;\">\n      <th></th>\n      <th>Id</th>\n      <th>OwnerUserId</th>\n      <th>ParentId</th>\n      <th>Score</th>\n    </tr>\n  </thead>\n  <tbody>\n    <tr>\n      <th>count</th>\n      <td>987122.000000</td>\n      <td>981755.000000</td>\n      <td>987122.000000</td>\n      <td>987122.000000</td>\n    </tr>\n    <tr>\n      <th>mean</th>\n      <td>21607440.957471</td>\n      <td>1589642.499920</td>\n      <td>20534960.850753</td>\n      <td>3.028437</td>\n    </tr>\n    <tr>\n      <th>std</th>\n      <td>11794878.874466</td>\n      <td>1649345.831621</td>\n      <td>11954864.488041</td>\n      <td>21.263246</td>\n    </tr>\n    <tr>\n      <th>min</th>\n      <td>497.000000</td>\n      <td>1.000000</td>\n      <td>469.000000</td>\n      <td>-38.000000</td>\n    </tr>\n    <tr>\n      <th>25%</th>\n      <td>11447745.500000</td>\n      <td>260303.000000</td>\n      <td>9968532.000000</td>\n      <td>0.000000</td>\n    </tr>\n    <tr>\n      <th>50%</th>\n      <td>22541876.500000</td>\n      <td>963465.000000</td>\n      <td>21035504.000000</td>\n      <td>1.000000</td>\n    </tr>\n    <tr>\n      <th>75%</th>\n      <td>32054689.000000</td>\n      <td>2433809.500000</td>\n      <td>31152330.250000</td>\n      <td>3.000000</td>\n    </tr>\n    <tr>\n      <th>max</th>\n      <td>40143370.000000</td>\n      <td>7044747.000000</td>\n      <td>40143190.000000</td>\n      <td>8384.000000</td>\n    </tr>\n  </tbody>\n</table>\n</div>"
     },
     "execution_count": 100,
     "metadata": {},
     "output_type": "execute_result"
    }
   ],
   "source": [
    "answers_df.describe()"
   ],
   "metadata": {
    "collapsed": false
   }
  },
  {
   "cell_type": "code",
   "execution_count": 101,
   "outputs": [
    {
     "data": {
      "text/plain": "'Le dataset contient 987122 réponses'"
     },
     "execution_count": 101,
     "metadata": {},
     "output_type": "execute_result"
    }
   ],
   "source": [
    "f\"Le dataset contient {answers_df.shape[0]} réponses\""
   ],
   "metadata": {
    "collapsed": false
   }
  },
  {
   "cell_type": "code",
   "execution_count": 102,
   "outputs": [
    {
     "name": "stdout",
     "output_type": "stream",
     "text": [
      "<class 'pandas.core.frame.DataFrame'>\n",
      "RangeIndex: 607282 entries, 0 to 607281\n",
      "Data columns (total 6 columns):\n",
      " #   Column        Non-Null Count   Dtype  \n",
      "---  ------        --------------   -----  \n",
      " 0   Id            607282 non-null  int64  \n",
      " 1   OwnerUserId   601070 non-null  float64\n",
      " 2   CreationDate  607282 non-null  object \n",
      " 3   Score         607282 non-null  int64  \n",
      " 4   Title         607282 non-null  object \n",
      " 5   Body          607282 non-null  object \n",
      "dtypes: float64(1), int64(2), object(3)\n",
      "memory usage: 27.8+ MB\n"
     ]
    }
   ],
   "source": [
    "questions_df = pd.read_csv(\"data/Questions.csv\", encoding='latin-1')\n",
    "questions_df.info()"
   ],
   "metadata": {
    "collapsed": false
   }
  },
  {
   "cell_type": "code",
   "execution_count": 103,
   "outputs": [
    {
     "data": {
      "text/plain": "Id                 0\nOwnerUserId     6212\nCreationDate       0\nScore              0\nTitle              0\nBody               0\ndtype: int64"
     },
     "execution_count": 103,
     "metadata": {},
     "output_type": "execute_result"
    }
   ],
   "source": [
    "questions_df.isna().sum()"
   ],
   "metadata": {
    "collapsed": false
   }
  },
  {
   "cell_type": "code",
   "execution_count": 104,
   "outputs": [
    {
     "data": {
      "text/plain": "    Id  OwnerUserId          CreationDate  Score  \\\n0  469   147.000000  2008-08-02T15:11:16Z     21   \n1  502   147.000000  2008-08-02T17:01:58Z     27   \n2  535   154.000000  2008-08-02T18:43:54Z     40   \n3  594   116.000000  2008-08-03T01:15:08Z     25   \n4  683   199.000000  2008-08-03T13:19:16Z     28   \n\n                                               Title  \\\n0  How can I find the full path to a font from it...   \n1            Get a preview JPEG of a PDF on Windows?   \n2  Continuous Integration System for a Python Cod...   \n3     cx_Oracle: How do I iterate over a result set?   \n4  Using 'in' to match an attribute of Python obj...   \n\n                                                Body  \n0  <p>I am using the Photoshop's javascript API t...  \n1  <p>I have a cross-platform (Python) applicatio...  \n2  <p>I'm starting work on a hobby project with a...  \n3  <p>There are several ways to iterate over a re...  \n4  <p>I don't remember whether I was dreaming or ...  ",
      "text/html": "<div>\n<style scoped>\n    .dataframe tbody tr th:only-of-type {\n        vertical-align: middle;\n    }\n\n    .dataframe tbody tr th {\n        vertical-align: top;\n    }\n\n    .dataframe thead th {\n        text-align: right;\n    }\n</style>\n<table border=\"1\" class=\"dataframe\">\n  <thead>\n    <tr style=\"text-align: right;\">\n      <th></th>\n      <th>Id</th>\n      <th>OwnerUserId</th>\n      <th>CreationDate</th>\n      <th>Score</th>\n      <th>Title</th>\n      <th>Body</th>\n    </tr>\n  </thead>\n  <tbody>\n    <tr>\n      <th>0</th>\n      <td>469</td>\n      <td>147.000000</td>\n      <td>2008-08-02T15:11:16Z</td>\n      <td>21</td>\n      <td>How can I find the full path to a font from it...</td>\n      <td>&lt;p&gt;I am using the Photoshop's javascript API t...</td>\n    </tr>\n    <tr>\n      <th>1</th>\n      <td>502</td>\n      <td>147.000000</td>\n      <td>2008-08-02T17:01:58Z</td>\n      <td>27</td>\n      <td>Get a preview JPEG of a PDF on Windows?</td>\n      <td>&lt;p&gt;I have a cross-platform (Python) applicatio...</td>\n    </tr>\n    <tr>\n      <th>2</th>\n      <td>535</td>\n      <td>154.000000</td>\n      <td>2008-08-02T18:43:54Z</td>\n      <td>40</td>\n      <td>Continuous Integration System for a Python Cod...</td>\n      <td>&lt;p&gt;I'm starting work on a hobby project with a...</td>\n    </tr>\n    <tr>\n      <th>3</th>\n      <td>594</td>\n      <td>116.000000</td>\n      <td>2008-08-03T01:15:08Z</td>\n      <td>25</td>\n      <td>cx_Oracle: How do I iterate over a result set?</td>\n      <td>&lt;p&gt;There are several ways to iterate over a re...</td>\n    </tr>\n    <tr>\n      <th>4</th>\n      <td>683</td>\n      <td>199.000000</td>\n      <td>2008-08-03T13:19:16Z</td>\n      <td>28</td>\n      <td>Using 'in' to match an attribute of Python obj...</td>\n      <td>&lt;p&gt;I don't remember whether I was dreaming or ...</td>\n    </tr>\n  </tbody>\n</table>\n</div>"
     },
     "execution_count": 104,
     "metadata": {},
     "output_type": "execute_result"
    }
   ],
   "source": [
    "questions_df.head()"
   ],
   "metadata": {
    "collapsed": false
   }
  },
  {
   "cell_type": "code",
   "execution_count": 105,
   "outputs": [
    {
     "data": {
      "text/plain": "                   Id    OwnerUserId         Score\ncount   607282.000000  601070.000000 607282.000000\nmean  23719604.527590 2519594.996418      2.283137\nstd   11247153.677061 1910375.393429     19.285578\nmin        469.000000      25.000000    -44.000000\n25%   14855187.250000  853934.000000      0.000000\n50%   25318970.000000 2107677.000000      1.000000\n75%   33588233.500000 3991164.000000      2.000000\nmax   40143365.000000 7044992.000000   5524.000000",
      "text/html": "<div>\n<style scoped>\n    .dataframe tbody tr th:only-of-type {\n        vertical-align: middle;\n    }\n\n    .dataframe tbody tr th {\n        vertical-align: top;\n    }\n\n    .dataframe thead th {\n        text-align: right;\n    }\n</style>\n<table border=\"1\" class=\"dataframe\">\n  <thead>\n    <tr style=\"text-align: right;\">\n      <th></th>\n      <th>Id</th>\n      <th>OwnerUserId</th>\n      <th>Score</th>\n    </tr>\n  </thead>\n  <tbody>\n    <tr>\n      <th>count</th>\n      <td>607282.000000</td>\n      <td>601070.000000</td>\n      <td>607282.000000</td>\n    </tr>\n    <tr>\n      <th>mean</th>\n      <td>23719604.527590</td>\n      <td>2519594.996418</td>\n      <td>2.283137</td>\n    </tr>\n    <tr>\n      <th>std</th>\n      <td>11247153.677061</td>\n      <td>1910375.393429</td>\n      <td>19.285578</td>\n    </tr>\n    <tr>\n      <th>min</th>\n      <td>469.000000</td>\n      <td>25.000000</td>\n      <td>-44.000000</td>\n    </tr>\n    <tr>\n      <th>25%</th>\n      <td>14855187.250000</td>\n      <td>853934.000000</td>\n      <td>0.000000</td>\n    </tr>\n    <tr>\n      <th>50%</th>\n      <td>25318970.000000</td>\n      <td>2107677.000000</td>\n      <td>1.000000</td>\n    </tr>\n    <tr>\n      <th>75%</th>\n      <td>33588233.500000</td>\n      <td>3991164.000000</td>\n      <td>2.000000</td>\n    </tr>\n    <tr>\n      <th>max</th>\n      <td>40143365.000000</td>\n      <td>7044992.000000</td>\n      <td>5524.000000</td>\n    </tr>\n  </tbody>\n</table>\n</div>"
     },
     "execution_count": 105,
     "metadata": {},
     "output_type": "execute_result"
    }
   ],
   "source": [
    "questions_df.describe()"
   ],
   "metadata": {
    "collapsed": false
   }
  },
  {
   "cell_type": "code",
   "execution_count": 106,
   "outputs": [
    {
     "data": {
      "text/plain": "'Le dataset contient 607282 questions'"
     },
     "execution_count": 106,
     "metadata": {},
     "output_type": "execute_result"
    }
   ],
   "source": [
    "f\"Le dataset contient {questions_df.shape[0]} questions\""
   ],
   "metadata": {
    "collapsed": false
   }
  },
  {
   "cell_type": "code",
   "execution_count": 107,
   "outputs": [
    {
     "name": "stdout",
     "output_type": "stream",
     "text": [
      "<class 'pandas.core.frame.DataFrame'>\n",
      "RangeIndex: 1885078 entries, 0 to 1885077\n",
      "Data columns (total 2 columns):\n",
      " #   Column  Dtype \n",
      "---  ------  ----- \n",
      " 0   Id      int64 \n",
      " 1   Tag     object\n",
      "dtypes: int64(1), object(1)\n",
      "memory usage: 28.8+ MB\n"
     ]
    }
   ],
   "source": [
    "tags_df = pd.read_csv(\"data/Tags.csv\", encoding='latin-1')\n",
    "tags_df.info()"
   ],
   "metadata": {
    "collapsed": false
   }
  },
  {
   "cell_type": "code",
   "execution_count": 108,
   "outputs": [
    {
     "data": {
      "text/plain": "Id       0\nTag    443\ndtype: int64"
     },
     "execution_count": 108,
     "metadata": {},
     "output_type": "execute_result"
    }
   ],
   "source": [
    "tags_df.isna().sum()"
   ],
   "metadata": {
    "collapsed": false
   }
  },
  {
   "cell_type": "code",
   "execution_count": 109,
   "outputs": [
    {
     "data": {
      "text/plain": "    Id        Tag\n0  469     python\n1  469        osx\n2  469      fonts\n3  469  photoshop\n4  502     python",
      "text/html": "<div>\n<style scoped>\n    .dataframe tbody tr th:only-of-type {\n        vertical-align: middle;\n    }\n\n    .dataframe tbody tr th {\n        vertical-align: top;\n    }\n\n    .dataframe thead th {\n        text-align: right;\n    }\n</style>\n<table border=\"1\" class=\"dataframe\">\n  <thead>\n    <tr style=\"text-align: right;\">\n      <th></th>\n      <th>Id</th>\n      <th>Tag</th>\n    </tr>\n  </thead>\n  <tbody>\n    <tr>\n      <th>0</th>\n      <td>469</td>\n      <td>python</td>\n    </tr>\n    <tr>\n      <th>1</th>\n      <td>469</td>\n      <td>osx</td>\n    </tr>\n    <tr>\n      <th>2</th>\n      <td>469</td>\n      <td>fonts</td>\n    </tr>\n    <tr>\n      <th>3</th>\n      <td>469</td>\n      <td>photoshop</td>\n    </tr>\n    <tr>\n      <th>4</th>\n      <td>502</td>\n      <td>python</td>\n    </tr>\n  </tbody>\n</table>\n</div>"
     },
     "execution_count": 109,
     "metadata": {},
     "output_type": "execute_result"
    }
   ],
   "source": [
    "tags_df.head()"
   ],
   "metadata": {
    "collapsed": false
   }
  },
  {
   "cell_type": "code",
   "execution_count": 110,
   "outputs": [
    {
     "data": {
      "text/plain": "                   Id\ncount  1885078.000000\nmean  23917947.228089\nstd   11214914.197417\nmin        469.000000\n25%   15187529.250000\n50%   25597469.500000\n75%   33728831.000000\nmax   40143365.000000",
      "text/html": "<div>\n<style scoped>\n    .dataframe tbody tr th:only-of-type {\n        vertical-align: middle;\n    }\n\n    .dataframe tbody tr th {\n        vertical-align: top;\n    }\n\n    .dataframe thead th {\n        text-align: right;\n    }\n</style>\n<table border=\"1\" class=\"dataframe\">\n  <thead>\n    <tr style=\"text-align: right;\">\n      <th></th>\n      <th>Id</th>\n    </tr>\n  </thead>\n  <tbody>\n    <tr>\n      <th>count</th>\n      <td>1885078.000000</td>\n    </tr>\n    <tr>\n      <th>mean</th>\n      <td>23917947.228089</td>\n    </tr>\n    <tr>\n      <th>std</th>\n      <td>11214914.197417</td>\n    </tr>\n    <tr>\n      <th>min</th>\n      <td>469.000000</td>\n    </tr>\n    <tr>\n      <th>25%</th>\n      <td>15187529.250000</td>\n    </tr>\n    <tr>\n      <th>50%</th>\n      <td>25597469.500000</td>\n    </tr>\n    <tr>\n      <th>75%</th>\n      <td>33728831.000000</td>\n    </tr>\n    <tr>\n      <th>max</th>\n      <td>40143365.000000</td>\n    </tr>\n  </tbody>\n</table>\n</div>"
     },
     "execution_count": 110,
     "metadata": {},
     "output_type": "execute_result"
    }
   ],
   "source": [
    "tags_df.describe()"
   ],
   "metadata": {
    "collapsed": false
   }
  },
  {
   "cell_type": "code",
   "execution_count": 111,
   "outputs": [
    {
     "data": {
      "text/plain": "'Le dataset contient 1885078 tags'"
     },
     "execution_count": 111,
     "metadata": {},
     "output_type": "execute_result"
    }
   ],
   "source": [
    "f\"Le dataset contient {tags_df.shape[0]} tags\""
   ],
   "metadata": {
    "collapsed": false
   }
  },
  {
   "cell_type": "code",
   "execution_count": 112,
   "outputs": [
    {
     "data": {
      "text/plain": "<AxesSubplot:>"
     },
     "execution_count": 112,
     "metadata": {},
     "output_type": "execute_result"
    },
    {
     "data": {
      "text/plain": "<Figure size 640x480 with 1 Axes>",
      "image/png": "[encoded data removed]"
     },
     "metadata": {},
     "output_type": "display_data"
    }
   ],
   "source": [
    "#most frequent tags\n",
    "fig, ax = plt.subplots()\n",
    "tags_df[tags_df['Tag']!='python']['Tag'].value_counts().sort_values(ascending = False)[:20].plot(ax=ax, kind='bar')"
   ],
   "metadata": {
    "collapsed": false
   }
  },
  {
   "cell_type": "markdown",
   "source": [
    "## NETTOYAGE\n"
   ],
   "metadata": {
    "collapsed": false
   }
  },
  {
   "cell_type": "code",
   "execution_count": 114,
   "outputs": [
    {
     "data": {
      "text/plain": "              Id    OwnerUserId          CreationDate  Score  \\\n0            469     147.000000  2008-08-02T15:11:16Z     21   \n1            502     147.000000  2008-08-02T17:01:58Z     27   \n2            535     154.000000  2008-08-02T18:43:54Z     40   \n3            594     116.000000  2008-08-03T01:15:08Z     25   \n4            683     199.000000  2008-08-03T13:19:16Z     28   \n...          ...            ...                   ...    ...   \n607277  40143190  333403.000000  2016-10-19T23:36:01Z      1   \n607278  40143228 6662462.000000  2016-10-19T23:40:00Z      0   \n607279  40143267 4064680.000000  2016-10-19T23:44:07Z      0   \n607280  40143338 7044980.000000  2016-10-19T23:52:27Z      2   \n607281  40143365 4133131.000000  2016-10-19T23:55:49Z      0   \n\n                                                    Title  \\\n0       How can I find the full path to a font from it...   \n1                 Get a preview JPEG of a PDF on Windows?   \n2       Continuous Integration System for a Python Cod...   \n3          cx_Oracle: How do I iterate over a result set?   \n4       Using 'in' to match an attribute of Python obj...   \n...                                                   ...   \n607277  How to execute multiline python code from a ba...   \n607278  How to get google reCaptcha image source using...   \n607279      Updating an ManyToMany field with Django rest   \n607280                                Most possible pairs   \n607281            Theano operations returning odd results   \n\n                                                     Body  \n0       <p>I am using the Photoshop's javascript API t...  \n1       <p>I have a cross-platform (Python) applicatio...  \n2       <p>I'm starting work on a hobby project with a...  \n3       <p>There are several ways to iterate over a re...  \n4       <p>I don't remember whether I was dreaming or ...  \n...                                                   ...  \n607277  <p>I need to extend a shell script (bash). As ...  \n607278  <p>I understood that reCaptcha loads a new fra...  \n607279  <p>I'm trying to set up this API so I can use ...  \n607280  <p>Given a list of values, and information on ...  \n607281  <p>So I'm trying to learn how to use Theano an...  \n\n[570972 rows x 6 columns]",
      "text/html": "<div>\n<style scoped>\n    .dataframe tbody tr th:only-of-type {\n        vertical-align: middle;\n    }\n\n    .dataframe tbody tr th {\n        vertical-align: top;\n    }\n\n    .dataframe thead th {\n        text-align: right;\n    }\n</style>\n<table border=\"1\" class=\"dataframe\">\n  <thead>\n    <tr style=\"text-align: right;\">\n      <th></th>\n      <th>Id</th>\n      <th>OwnerUserId</th>\n      <th>CreationDate</th>\n      <th>Score</th>\n      <th>Title</th>\n      <th>Body</th>\n    </tr>\n  </thead>\n  <tbody>\n    <tr>\n      <th>0</th>\n      <td>469</td>\n      <td>147.000000</td>\n      <td>2008-08-02T15:11:16Z</td>\n      <td>21</td>\n      <td>How can I find the full path to a font from it...</td>\n      <td>&lt;p&gt;I am using the Photoshop's javascript API t...</td>\n    </tr>\n    <tr>\n      <th>1</th>\n      <td>502</td>\n      <td>147.000000</td>\n      <td>2008-08-02T17:01:58Z</td>\n      <td>27</td>\n      <td>Get a preview JPEG of a PDF on Windows?</td>\n      <td>&lt;p&gt;I have a cross-platform (Python) applicatio...</td>\n    </tr>\n    <tr>\n      <th>2</th>\n      <td>535</td>\n      <td>154.000000</td>\n      <td>2008-08-02T18:43:54Z</td>\n      <td>40</td>\n      <td>Continuous Integration System for a Python Cod...</td>\n      <td>&lt;p&gt;I'm starting work on a hobby project with a...</td>\n    </tr>\n    <tr>\n      <th>3</th>\n      <td>594</td>\n      <td>116.000000</td>\n      <td>2008-08-03T01:15:08Z</td>\n      <td>25</td>\n      <td>cx_Oracle: How do I iterate over a result set?</td>\n      <td>&lt;p&gt;There are several ways to iterate over a re...</td>\n    </tr>\n    <tr>\n      <th>4</th>\n      <td>683</td>\n      <td>199.000000</td>\n      <td>2008-08-03T13:19:16Z</td>\n      <td>28</td>\n      <td>Using 'in' to match an attribute of Python obj...</td>\n      <td>&lt;p&gt;I don't remember whether I was dreaming or ...</td>\n    </tr>\n    <tr>\n      <th>...</th>\n      <td>...</td>\n      <td>...</td>\n      <td>...</td>\n      <td>...</td>\n      <td>...</td>\n      <td>...</td>\n    </tr>\n    <tr>\n      <th>607277</th>\n      <td>40143190</td>\n      <td>333403.000000</td>\n      <td>2016-10-19T23:36:01Z</td>\n      <td>1</td>\n      <td>How to execute multiline python code from a ba...</td>\n      <td>&lt;p&gt;I need to extend a shell script (bash). As ...</td>\n    </tr>\n    <tr>\n      <th>607278</th>\n      <td>40143228</td>\n      <td>6662462.000000</td>\n      <td>2016-10-19T23:40:00Z</td>\n      <td>0</td>\n      <td>How to get google reCaptcha image source using...</td>\n      <td>&lt;p&gt;I understood that reCaptcha loads a new fra...</td>\n    </tr>\n    <tr>\n      <th>607279</th>\n      <td>40143267</td>\n      <td>4064680.000000</td>\n      <td>2016-10-19T23:44:07Z</td>\n      <td>0</td>\n      <td>Updating an ManyToMany field with Django rest</td>\n      <td>&lt;p&gt;I'm trying to set up this API so I can use ...</td>\n    </tr>\n    <tr>\n      <th>607280</th>\n      <td>40143338</td>\n      <td>7044980.000000</td>\n      <td>2016-10-19T23:52:27Z</td>\n      <td>2</td>\n      <td>Most possible pairs</td>\n      <td>&lt;p&gt;Given a list of values, and information on ...</td>\n    </tr>\n    <tr>\n      <th>607281</th>\n      <td>40143365</td>\n      <td>4133131.000000</td>\n      <td>2016-10-19T23:55:49Z</td>\n      <td>0</td>\n      <td>Theano operations returning odd results</td>\n      <td>&lt;p&gt;So I'm trying to learn how to use Theano an...</td>\n    </tr>\n  </tbody>\n</table>\n<p>570972 rows × 6 columns</p>\n</div>"
     },
     "execution_count": 114,
     "metadata": {},
     "output_type": "execute_result"
    }
   ],
   "source": [
    "# Remove all questions that have a negative score\n",
    "questions_df = questions_df[questions_df[\"Score\"] >= 0]\n",
    "questions_df"
   ],
   "metadata": {
    "collapsed": false
   }
  },
  {
   "cell_type": "code",
   "execution_count": 115,
   "outputs": [],
   "source": [
    "#Concatenate Body and Title\n",
    "questions_df['Text'] = questions_df[\"Title\"]+questions_df[\"Body\"]"
   ],
   "metadata": {
    "collapsed": false
   }
  },
  {
   "cell_type": "code",
   "execution_count": 116,
   "outputs": [
    {
     "data": {
      "text/plain": "0         How can I find the full path to a font from it...\n1         Get a preview JPEG of a PDF on Windows?<p>I ha...\n2         Continuous Integration System for a Python Cod...\n3         cx_Oracle: How do I iterate over a result set?...\n4         Using 'in' to match an attribute of Python obj...\n                                ...                        \n607277    How to execute multiline python code from a ba...\n607278    How to get google reCaptcha image source using...\n607279    Updating an ManyToMany field with Django rest<...\n607280    Most possible pairs<p>Given a list of values, ...\n607281    Theano operations returning odd results<p>So I...\nName: Text, Length: 570972, dtype: object"
     },
     "execution_count": 116,
     "metadata": {},
     "output_type": "execute_result"
    }
   ],
   "source": [
    "questions_df['Text']"
   ],
   "metadata": {
    "collapsed": false
   }
  },
  {
   "cell_type": "code",
   "execution_count": 117,
   "outputs": [
    {
     "name": "stderr",
     "output_type": "stream",
     "text": [
      "C:\\Users\\lemur\\miniconda3\\envs\\MLYNOV\\lib\\site-packages\\bs4\\builder\\__init__.py:545: XMLParsedAsHTMLWarning: It looks like you're parsing an XML document using an HTML parser. If this really is an HTML document (maybe it's XHTML?), you can ignore or filter this warning. If it's XML, you should know that using an XML parser will be more reliable. To parse this document as XML, make sure you have the lxml package installed, and pass the keyword argument `features=\"xml\"` into the BeautifulSoup constructor.\n",
      "  warnings.warn(\n"
     ]
    },
    {
     "data": {
      "text/plain": "0         find full path font display name Mac using Pho...\n1         Get preview JPEG PDF Windows cross platform Py...\n2         Continuous Integration System Python CodebaseI...\n3         cx Oracle iterate result set several way itera...\n4         Using match attribute Python object arrayI rem...\n                                ...                        \n607277    execute multiline python code bash script need...\n607278    get google reCaptcha image source using Seleni...\n607279    Updating ManyToMany field Django restI trying ...\n607280    possible pairsGiven list value information pos...\n607281    Theano operation returning odd resultsSo tryin...\nName: Text, Length: 570972, dtype: object"
     },
     "execution_count": 117,
     "metadata": {},
     "output_type": "execute_result"
    }
   ],
   "source": [
    "questions_df['Text'].apply(lambda x:preprocess(x))"
   ],
   "metadata": {
    "collapsed": false
   }
  },
  {
   "cell_type": "code",
   "execution_count": 119,
   "outputs": [],
   "source": [
    "# Tokenize the text\n",
    "tokenizer = Tokenizer()\n",
    "tokenizer.fit_on_texts(questions_df[\"Text\"])\n",
    "question_sequences = tokenizer.texts_to_sequences(questions_df[\"Text\"])"
   ],
   "metadata": {
    "collapsed": false
   }
  },
  {
   "cell_type": "code",
   "execution_count": 122,
   "outputs": [],
   "source": [
    "#Split dataset\n",
    "from sklearn.model_selection import train_test_split\n",
    "# set aside 20% of train and test data for evaluation\n",
    "X_train, X_test, y_train, y_test = train_test_split(questions_df,questions_df['Text'],\n",
    "    test_size=0.2, shuffle = True, random_state = 8)\n",
    "\n",
    "# Use the same function above for the validation set\n",
    "X_train, X_val, y_train, y_val = train_test_split(X_train, y_train,\n",
    "    test_size=0.25, random_state= 8) # 0.25 x 0.8 = 0.2"
   ],
   "metadata": {
    "collapsed": false
   }
  },
  {
   "cell_type": "code",
   "execution_count": null,
   "outputs": [],
   "source": [
    "# Pad the sequences to make them the same length\n",
    "max_len = max([len(s) for s in question_sequences])\n",
    "question_sequences = pad_sequences(question_sequences, maxlen=max_len)"
   ],
   "metadata": {
    "collapsed": false
   }
  },
  {
   "cell_type": "markdown",
   "source": [
    "## MODEL & TRAINNING"
   ],
   "metadata": {
    "collapsed": false
   }
  },
  {
   "cell_type": "code",
   "execution_count": null,
   "outputs": [],
   "source": [
    "# from keras.layers import Embedding, GRU, Dense\n",
    "# from keras import Sequential\n",
    "#\n",
    "# # Build the model\n",
    "# model = Sequential()\n",
    "# model.add(Embedding(len(tokenizer.word_index)+1, 100, input_length=max_len))\n",
    "# model.add(GRU(100, return_sequences=True))\n",
    "# model.add(GRU(100))\n",
    "# model.add(Dense(1, activation='softmax'))\n",
    "# model.compile(loss='categorical_crossentropy', optimizer='adam', metrics=['accuracy'])\n",
    "#\n",
    "# # Fit the model on the data\n",
    "# model.fit(question_sequences, answers_df[\"answer\"], epochs=10, batch_size=32)"
   ],
   "metadata": {
    "collapsed": false
   }
  }
 ],
 "metadata": {
  "kernelspec": {
   "display_name": "Python 3",
   "language": "python",
   "name": "python3"
  },
  "language_info": {
   "codemirror_mode": {
    "name": "ipython",
    "version": 2
   },
   "file_extension": ".py",
   "mimetype": "text/x-python",
   "name": "python",
   "nbconvert_exporter": "python",
   "pygments_lexer": "ipython2",
   "version": "2.7.6"
  }
 },
 "nbformat": 4,
 "nbformat_minor": 0
}
